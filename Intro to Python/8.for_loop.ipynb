{
 "cells": [
  {
   "cell_type": "code",
   "execution_count": 2,
   "id": "5f796c8d-7099-4ad4-b1f4-8a91afc261f3",
   "metadata": {},
   "outputs": [
    {
     "name": "stdin",
     "output_type": "stream",
     "text": [
      "Enter the number: 5\n"
     ]
    },
    {
     "name": "stdout",
     "output_type": "stream",
     "text": [
      "0\n",
      "1\n",
      "2\n",
      "3\n",
      "4\n"
     ]
    }
   ],
   "source": [
    "n = int(input('Enter the number:'))\n",
    "for i in range(5):\n",
    "    print(i)"
   ]
  },
  {
   "cell_type": "code",
   "execution_count": 5,
   "id": "5496dabd-77df-42f4-81d2-7dd67ff76bbb",
   "metadata": {},
   "outputs": [
    {
     "name": "stdout",
     "output_type": "stream",
     "text": [
      "1\n",
      "2\n",
      "3\n",
      "4\n",
      "5\n",
      "6\n",
      "7\n",
      "8\n",
      "9\n"
     ]
    }
   ],
   "source": [
    "for i in range(1 ,10):\n",
    "    print(i)"
   ]
  },
  {
   "cell_type": "code",
   "execution_count": 7,
   "id": "1a92a1f5-be53-4034-bb97-fe44f1e1a172",
   "metadata": {},
   "outputs": [
    {
     "name": "stdin",
     "output_type": "stream",
     "text": [
      "Enter the number: 10\n"
     ]
    },
    {
     "name": "stdout",
     "output_type": "stream",
     "text": [
      "0 * 10 = 0\n",
      "1 * 10 = 10\n",
      "2 * 10 = 20\n",
      "3 * 10 = 30\n",
      "4 * 10 = 40\n",
      "5 * 10 = 50\n",
      "6 * 10 = 60\n",
      "7 * 10 = 70\n",
      "8 * 10 = 80\n",
      "9 * 10 = 90\n",
      "10 * 10 = 100\n"
     ]
    }
   ],
   "source": [
    "n = int(input('Enter the number:'))\n",
    "for i in range(11):\n",
    "    print(i ,'*' , n ,'=' ,i*n )"
   ]
  },
  {
   "cell_type": "code",
   "execution_count": 11,
   "id": "ba1f6716-7460-47e4-b300-3a63519a6968",
   "metadata": {},
   "outputs": [
    {
     "name": "stdin",
     "output_type": "stream",
     "text": [
      "Enter the number: 10\n"
     ]
    },
    {
     "name": "stdout",
     "output_type": "stream",
     "text": [
      "1 * 10 = 10\n",
      "2 * 10 = 20\n",
      "3 * 10 = 30\n",
      "4 * 10 = 40\n",
      "5 * 10 = 50\n",
      "6 * 10 = 60\n",
      "7 * 10 = 70\n",
      "8 * 10 = 80\n",
      "9 * 10 = 90\n"
     ]
    }
   ],
   "source": [
    "n = int(input('Enter the number:'))\n",
    "for i in range(1,10):\n",
    "    print(i ,'*' , n ,'=' ,i*n )"
   ]
  },
  {
   "cell_type": "code",
   "execution_count": 16,
   "id": "48e6d174-5255-4875-b878-1f47eaadc8c3",
   "metadata": {},
   "outputs": [
    {
     "name": "stdout",
     "output_type": "stream",
     "text": [
      "This is printing table of 2\n",
      "2\n",
      "4\n",
      "6\n",
      "8\n",
      "10\n",
      "12\n",
      "14\n",
      "16\n",
      "18\n",
      "20\n"
     ]
    }
   ],
   "source": [
    "print('This is printing table of 2')\n",
    "for i in range(2 , 21 ,2):\n",
    "    print(i)"
   ]
  },
  {
   "cell_type": "code",
   "execution_count": 20,
   "id": "deaee6fb-6edf-4850-9180-424d538800b0",
   "metadata": {},
   "outputs": [
    {
     "name": "stdin",
     "output_type": "stream",
     "text": [
      "Enter the number: 10\n"
     ]
    },
    {
     "name": "stdout",
     "output_type": "stream",
     "text": [
      "The table of 10 is = 10\n",
      "The table of 10 is = 20\n",
      "The table of 10 is = 30\n",
      "The table of 10 is = 40\n",
      "The table of 10 is = 50\n",
      "The table of 10 is = 60\n",
      "The table of 10 is = 70\n",
      "The table of 10 is = 80\n",
      "The table of 10 is = 90\n",
      "The table of 10 is = 100\n"
     ]
    }
   ],
   "source": [
    "n = int(input(\"Enter the number:\"))\n",
    "for i in range(n , (n*10)+1 , n):\n",
    "    print('The table of' , n , 'is' ,'=',i)"
   ]
  },
  {
   "cell_type": "markdown",
   "id": "ce6bec85-001c-4490-b5f4-c75a2005b540",
   "metadata": {},
   "source": [
    "\n"
   ]
  },
  {
   "cell_type": "markdown",
   "id": "995cd3c1-74b2-4d92-8416-a8ff5bec1e8c",
   "metadata": {},
   "source": [
    "# NESTED FOR LOOP"
   ]
  },
  {
   "cell_type": "code",
   "execution_count": 37,
   "id": "bcd5711f-4def-4508-9dc5-435b48559477",
   "metadata": {},
   "outputs": [
    {
     "name": "stdout",
     "output_type": "stream",
     "text": [
      "1 1\n",
      "-\n",
      "1 2\n",
      "-\n",
      "1 3\n",
      "-\n",
      "1 4\n",
      "-\n",
      "1 5\n",
      "-\n",
      "1 6\n",
      "-\n",
      "2 1\n",
      "-\n",
      "2 2\n",
      "-\n",
      "2 3\n",
      "-\n",
      "2 4\n",
      "-\n",
      "2 5\n",
      "-\n",
      "2 6\n",
      "-\n",
      "3 1\n",
      "-\n",
      "3 2\n",
      "-\n",
      "3 3\n",
      "-\n",
      "3 4\n",
      "-\n",
      "3 5\n",
      "-\n",
      "3 6\n",
      "-\n",
      "4 1\n",
      "-\n",
      "4 2\n",
      "-\n",
      "4 3\n",
      "-\n",
      "4 4\n",
      "-\n",
      "4 5\n",
      "-\n",
      "4 6\n",
      "-\n",
      "5 1\n",
      "-\n",
      "5 2\n",
      "-\n",
      "5 3\n",
      "-\n",
      "5 4\n",
      "-\n",
      "5 5\n",
      "-\n",
      "5 6\n",
      "-\n",
      "6 1\n",
      "-\n",
      "6 2\n",
      "-\n",
      "6 3\n",
      "-\n",
      "6 4\n",
      "-\n",
      "6 5\n",
      "-\n",
      "6 6\n",
      "-\n"
     ]
    }
   ],
   "source": [
    "for i in range(1 , 7):\n",
    "    for j in range(1,7):\n",
    "        print(i,j)\n",
    "        \n",
    "        print('-')\n",
    "    "
   ]
  },
  {
   "cell_type": "code",
   "execution_count": 38,
   "id": "193013ae-0ec3-41df-a1f7-7d477502a376",
   "metadata": {},
   "outputs": [
    {
     "name": "stdout",
     "output_type": "stream",
     "text": [
      "6 6\n"
     ]
    }
   ],
   "source": [
    "for i in range(1 , 7):\n",
    "    for j in range(1,7):\n",
    "        if(i + j == 12):\n",
    "            print(i,j)\n",
    "        \n",
    "        \n",
    "    "
   ]
  },
  {
   "cell_type": "code",
   "execution_count": 47,
   "id": "a24806c7-9ba7-49de-99ef-d6f7e56568f0",
   "metadata": {},
   "outputs": [
    {
     "name": "stdout",
     "output_type": "stream",
     "text": [
      "2 6\n",
      "3 5\n",
      "4 4\n",
      "5 3\n",
      "6 2\n",
      "5\n",
      "13.89\n"
     ]
    }
   ],
   "source": [
    "number = 0\n",
    "for i in range(1 , 7):\n",
    "    for j in range(1,7):\n",
    "        if(i + j == 8):\n",
    "            number+=1\n",
    "            print(i,j)\n",
    "print(number) \n",
    "print(round((number/36)*100,2))\n",
    "        "
   ]
  },
  {
   "cell_type": "code",
   "execution_count": 64,
   "id": "6cf32187-391e-4de2-8cb1-af4eab106d7f",
   "metadata": {},
   "outputs": [
    {
     "name": "stdout",
     "output_type": "stream",
     "text": [
      "1 = 0.0\n",
      "2 = 2.78\n",
      "3 = 5.56\n",
      "4 = 8.33\n",
      "5 = 11.11\n",
      "6 = 13.89\n",
      "7 = 16.67\n",
      "8 = 13.89\n",
      "9 = 11.11\n",
      "10 = 8.33\n",
      "11 = 5.56\n",
      "12 = 2.78\n"
     ]
    }
   ],
   "source": [
    "for n in range(1,13):\n",
    "     number = 0\n",
    "     for i in range(1 , 7):\n",
    "         for j in range(1,7):\n",
    "             if(i + j == n):\n",
    "                number+=1\n",
    "     print(n, '=' ,round((number/36)*100,2))\n",
    "        "
   ]
  },
  {
   "cell_type": "code",
   "execution_count": 66,
   "id": "c9db47c8-47ce-450e-8a28-50a287ac89a4",
   "metadata": {},
   "outputs": [
    {
     "name": "stdout",
     "output_type": "stream",
     "text": [
      "1 = 0.0\n",
      "2 = 0.0\n",
      "3 = 0.46\n",
      "4 = 1.39\n",
      "5 = 2.78\n",
      "6 = 4.63\n",
      "7 = 6.94\n",
      "8 = 9.72\n",
      "9 = 11.57\n",
      "10 = 12.5\n",
      "11 = 12.5\n",
      "12 = 11.57\n",
      "13 = 9.72\n",
      "14 = 6.94\n",
      "15 = 4.63\n",
      "16 = 2.78\n",
      "17 = 1.39\n",
      "18 = 0.46\n"
     ]
    }
   ],
   "source": [
    "for n in range(1,19):\n",
    "     number = 0\n",
    "     for i in range(1 , 7):\n",
    "         for j in range(1,7):\n",
    "             for k in range(1,7):\n",
    "                 if(i + j +k == n):\n",
    "                   number+=1\n",
    "     print(n, '=' ,round((number/216)*100,2))"
   ]
  },
  {
   "cell_type": "code",
   "execution_count": null,
   "id": "541ea805-4dc4-44dc-bf04-64f18f0dbcf2",
   "metadata": {},
   "outputs": [],
   "source": []
  }
 ],
 "metadata": {
  "kernelspec": {
   "display_name": "Python 3 (ipykernel)",
   "language": "python",
   "name": "python3"
  },
  "language_info": {
   "codemirror_mode": {
    "name": "ipython",
    "version": 3
   },
   "file_extension": ".py",
   "mimetype": "text/x-python",
   "name": "python",
   "nbconvert_exporter": "python",
   "pygments_lexer": "ipython3",
   "version": "3.11.7"
  }
 },
 "nbformat": 4,
 "nbformat_minor": 5
}
