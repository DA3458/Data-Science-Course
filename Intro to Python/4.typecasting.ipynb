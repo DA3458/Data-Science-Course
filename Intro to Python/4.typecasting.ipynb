{
 "cells": [
  {
   "cell_type": "code",
   "execution_count": 9,
   "id": "61b5961c-03b5-4696-8f66-3d4e602297a8",
   "metadata": {},
   "outputs": [
    {
     "name": "stdout",
     "output_type": "stream",
     "text": [
      "-------------\n",
      "3.14\n",
      "3\n",
      "10\n",
      "0\n"
     ]
    }
   ],
   "source": [
    "#int\n",
    "print('-------------')\n",
    "print(3.14)\n",
    "print(int(3.14))\n",
    "print(int('10'))\n",
    "print(int(False))\n"
   ]
  },
  {
   "cell_type": "code",
   "execution_count": 12,
   "id": "659e246d-3e96-45ef-850b-dca308163780",
   "metadata": {},
   "outputs": [
    {
     "name": "stdout",
     "output_type": "stream",
     "text": [
      "---------------\n",
      "3.0\n",
      "1.0\n",
      "10.5\n"
     ]
    }
   ],
   "source": [
    "#float\n",
    "print('---------------')\n",
    "print(float(3))\n",
    "print(float(True))\n",
    "print(float('10.5'))"
   ]
  },
  {
   "cell_type": "code",
   "execution_count": 15,
   "id": "92d4ec9b-5e34-4e11-b987-048c58562fde",
   "metadata": {},
   "outputs": [
    {
     "name": "stdout",
     "output_type": "stream",
     "text": [
      "-------------\n",
      "123\n",
      "123.23\n",
      "True\n"
     ]
    }
   ],
   "source": [
    "#str\n",
    "print('-------------')\n",
    "print(str(123))\n",
    "print(str(123.23))\n",
    "print(True)\n"
   ]
  },
  {
   "cell_type": "code",
   "execution_count": 20,
   "id": "2ae520c2-7a08-4e8d-a544-c09152a034ad",
   "metadata": {},
   "outputs": [
    {
     "name": "stdout",
     "output_type": "stream",
     "text": [
      "-------------\n",
      "True\n",
      "True\n",
      "True\n",
      "False\n",
      "False\n",
      "True\n",
      "True\n"
     ]
    }
   ],
   "source": [
    "#bool\n",
    "print('-------------')\n",
    "print(bool(1))\n",
    "print(bool(100000))\n",
    "print(bool(-1211))\n",
    "print(bool(0))\n",
    "print(bool(0.0))\n",
    "print(bool(423423.23))\n",
    "print(bool('423423.23'))\n"
   ]
  },
  {
   "cell_type": "code",
   "execution_count": 24,
   "id": "3e20b1f3-90ad-4af9-bcea-0afa25c2fe3e",
   "metadata": {},
   "outputs": [
    {
     "name": "stdout",
     "output_type": "stream",
     "text": [
      "3\n"
     ]
    }
   ],
   "source": [
    "#  print(int('3.14')) this will give error but if \n",
    "print(int(float('3.14')))\n"
   ]
  },
  {
   "cell_type": "code",
   "execution_count": null,
   "id": "32d08a58-d40e-4d82-8c07-635b88e3b14b",
   "metadata": {},
   "outputs": [],
   "source": []
  }
 ],
 "metadata": {
  "kernelspec": {
   "display_name": "Python 3 (ipykernel)",
   "language": "python",
   "name": "python3"
  },
  "language_info": {
   "codemirror_mode": {
    "name": "ipython",
    "version": 3
   },
   "file_extension": ".py",
   "mimetype": "text/x-python",
   "name": "python",
   "nbconvert_exporter": "python",
   "pygments_lexer": "ipython3",
   "version": "3.11.7"
  }
 },
 "nbformat": 4,
 "nbformat_minor": 5
}
