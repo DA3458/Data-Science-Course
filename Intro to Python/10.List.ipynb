{
 "cells": [
  {
   "cell_type": "code",
   "execution_count": 6,
   "id": "5e84f9b2-5cc6-4c6e-862b-2ad5fd1b749b",
   "metadata": {},
   "outputs": [
    {
     "name": "stdout",
     "output_type": "stream",
     "text": [
      "['Ashish', 'Ankur', 'Riya', 'Adarsh', 'Parag', 'Avneet']\n",
      "Ashish\n",
      "Parag\n",
      "Avneet\n",
      "--------------------\n",
      "['Ashish', 'Ankur', 'Riya', 'Adarsh', 'Parag', 'Avneet']\n",
      "['Ashish', 'Ankur', 'Sakshi', 'Adarsh', 'Parag', 'Avneet']\n",
      "--------------------\n",
      "['Ankur', 'Sakshi', 'Adarsh']\n"
     ]
    }
   ],
   "source": [
    "lst = ['Ashish' , 'Ankur'  , 'Riya' , 'Adarsh', 'Parag' , 'Avneet']\n",
    "print(lst)\n",
    "\n",
    "# Access element through indexing\n",
    "print(lst[0])\n",
    "print(lst[4])\n",
    "print(lst[-1])\n",
    "print('-' * 20)\n",
    "\n",
    "\n",
    "#Modify Values\n",
    "print(lst)\n",
    "lst[2] = 'Sakshi'\n",
    "print(lst)\n",
    "print('-' * 20)\n",
    "\n",
    "#Slicing\n",
    "print(lst[1:4])\n",
    "print('-' * 20)"
   ]
  },
  {
   "cell_type": "code",
   "execution_count": 8,
   "id": "44b61524-d383-4f46-bd10-053838196027",
   "metadata": {},
   "outputs": [
    {
     "name": "stdout",
     "output_type": "stream",
     "text": [
      "['Avneet', 'Parag', 'Adarsh', 'Sakshi', 'Ankur', 'Ashish']\n",
      "['Avneet', 'Adarsh', 'Ankur']\n"
     ]
    }
   ],
   "source": [
    "# Reverse a list \n",
    "print(lst[::-1])   # reverse back in each step\n",
    "print(lst[::-2])   # reverse back in 2  step\n"
   ]
  },
  {
   "cell_type": "code",
   "execution_count": 26,
   "id": "41bba969-57c3-46a0-aebb-46b5d12d4e06",
   "metadata": {},
   "outputs": [
    {
     "name": "stdout",
     "output_type": "stream",
     "text": [
      "['Ashish', 'Ankur', 'Sakshi', 'Adarsh', 'Parag', 'Avneet']\n",
      "['Ashish', 'Ankur', 'Sakshi', 'Adarsh', 'Parag', 'Avneet', 'Ankit']\n",
      "['Ashish', 'Ankur', 'Sakshi', 'Adarsh', 'Parag', 'Avneet']\n"
     ]
    }
   ],
   "source": [
    "# Appending\n",
    "print(lst)\n",
    "lst.append('Ankit')\n",
    "print(lst)\n",
    "lst.remove('Ankit')\n",
    "print(lst)"
   ]
  },
  {
   "cell_type": "code",
   "execution_count": 27,
   "id": "f89afae9-06c1-438a-b3c6-88cb9eb0a8ca",
   "metadata": {},
   "outputs": [
    {
     "name": "stdout",
     "output_type": "stream",
     "text": [
      "6\n"
     ]
    }
   ],
   "source": [
    "#length of list\n",
    "print(len(lst))\n"
   ]
  },
  {
   "cell_type": "code",
   "execution_count": 30,
   "id": "302b216e-5d93-4597-9a5b-11f4418010a7",
   "metadata": {},
   "outputs": [
    {
     "name": "stdout",
     "output_type": "stream",
     "text": [
      "[3, 4, 45, 65, 19, 7]\n",
      "[3, 4, 7, 19, 45, 65]\n"
     ]
    }
   ],
   "source": [
    "# sorting a list\n",
    "lst = [3 , 4 , 45 , 65 , 19, 7]\n",
    "print(lst)\n",
    "print(sorted(lst))"
   ]
  },
  {
   "cell_type": "code",
   "execution_count": 31,
   "id": "27e7790d-45b9-4855-8d17-8dd16a837b3c",
   "metadata": {},
   "outputs": [
    {
     "name": "stdout",
     "output_type": "stream",
     "text": [
      "3\n"
     ]
    }
   ],
   "source": [
    "#Finding Element\n",
    "lst = ['Ashish' , 'Ankur'  , 'Riya' , 'Adarsh', 'Parag' , 'Avneet']\n",
    "print(lst.index('Adarsh'))"
   ]
  },
  {
   "cell_type": "code",
   "execution_count": 36,
   "id": "2d16a198-609c-45ed-80f3-d182f776f2bd",
   "metadata": {},
   "outputs": [
    {
     "name": "stdout",
     "output_type": "stream",
     "text": [
      "['Ashish', 'Ankur', 'Riya', 'Adarsh', 'Parag', 'Avneet', 'Arpita', 'Shambhavi', 'Kritika']\n",
      "['Ashish', 'Ankur', 'Riya', 'Adarsh', 'Parag', 'Avneet', 'Arpita', 'Shambhavi', 'Kritika', 'Arpita', 'Shambhavi', 'Kritika']\n"
     ]
    }
   ],
   "source": [
    "# Extending a list\n",
    "print(lst)\n",
    "lst.extend(['Arpita' , 'Shambhavi' , 'Kritika'])\n",
    "print(lst)\n"
   ]
  },
  {
   "cell_type": "code",
   "execution_count": 44,
   "id": "6c859e33-e7a6-4e60-b8cd-d37bc693c505",
   "metadata": {},
   "outputs": [
    {
     "name": "stdout",
     "output_type": "stream",
     "text": [
      "[3, 4, 45, 65, 19, 7, 56, 355]\n",
      "355\n",
      "3\n"
     ]
    }
   ],
   "source": [
    "# find max and min of a list\n",
    "lst = [3 , 4 , 45 , 65 , 19, 7 , 56 , 355]\n",
    "print(lst)\n",
    "print(max(lst))\n",
    "print(min(lst))"
   ]
  },
  {
   "cell_type": "code",
   "execution_count": 66,
   "id": "e526a915-bbc7-4cb3-92a1-ee61e5f38e7a",
   "metadata": {},
   "outputs": [
    {
     "name": "stdout",
     "output_type": "stream",
     "text": [
      "[3, 4, 45, 65, 19, 7, 56, 355]\n",
      "3\n",
      "4\n",
      "45\n",
      "65\n",
      "19\n",
      "7\n",
      "56\n",
      "355\n",
      "------------------------------\n",
      "[3, 4, 45, 65, 19, 7, 56, 355]\n",
      "0 3\n",
      "1 4\n",
      "2 45\n",
      "3 65\n",
      "4 19\n",
      "5 7\n",
      "6 56\n",
      "7 355\n",
      "------------------------------\n",
      "[3, 4, 45, 65, 19, 7, 56, 355]\n",
      "7 355\n",
      "6 56\n",
      "5 7\n",
      "4 19\n",
      "3 65\n",
      "2 45\n",
      "1 4\n",
      "0 3\n",
      "------------------------------\n"
     ]
    }
   ],
   "source": [
    "# iterating through the list | Direct\n",
    "print(lst)\n",
    "for i in lst:\n",
    "    print(i)\n",
    "\n",
    "print('-' * 30)\n",
    "# iterating through the list | Indexing\n",
    "print(lst)\n",
    "for i in range(len(lst)):\n",
    "    print(i , lst[i])\n",
    "    \n",
    "print('-' * 30)\n",
    "\n",
    "print(lst)\n",
    "for i in range(len(lst)-1 , -1 , -1):\n",
    "    print(i , lst[i])\n",
    "    \n",
    "print('-' * 30)"
   ]
  },
  {
   "cell_type": "code",
   "execution_count": null,
   "id": "ed5953a4-671f-4316-bda5-f8c7e6f1ceb4",
   "metadata": {},
   "outputs": [],
   "source": []
  }
 ],
 "metadata": {
  "kernelspec": {
   "display_name": "Python 3 (ipykernel)",
   "language": "python",
   "name": "python3"
  },
  "language_info": {
   "codemirror_mode": {
    "name": "ipython",
    "version": 3
   },
   "file_extension": ".py",
   "mimetype": "text/x-python",
   "name": "python",
   "nbconvert_exporter": "python",
   "pygments_lexer": "ipython3",
   "version": "3.11.7"
  }
 },
 "nbformat": 4,
 "nbformat_minor": 5
}
