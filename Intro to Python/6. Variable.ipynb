{
 "cells": [
  {
   "cell_type": "code",
   "execution_count": 21,
   "id": "af62d7a0-a7fd-4f20-9b52-de6c06a19f20",
   "metadata": {},
   "outputs": [
    {
     "name": "stdout",
     "output_type": "stream",
     "text": [
      "15\n",
      "-5\n",
      "50\n",
      "0.5\n",
      "9765625\n",
      "----------\n",
      "1 1 1\n",
      "----------\n",
      "2 5 7\n",
      "----------\n",
      "[9, 8, 7, 6]\n",
      "9 8 7 6\n",
      "----------\n"
     ]
    },
    {
     "name": "stdin",
     "output_type": "stream",
     "text": [
      "Enter the first number 1\n",
      "Enter the secone number 2\n"
     ]
    },
    {
     "name": "stdout",
     "output_type": "stream",
     "text": [
      "The  value is -1\n"
     ]
    }
   ],
   "source": [
    "# Ways to assign value to variable\n",
    "a = 5\n",
    "b = 10\n",
    "print(a + b)\n",
    "print(a - b)\n",
    "print(a * b)\n",
    "print(a / b)\n",
    "print(a ** b)\n",
    "print('-' *10)\n",
    "x = y =z = 1\n",
    "print(x,y,z)\n",
    "print('-' *10)\n",
    "\n",
    "q , w , v = 2 , 5 , 7\n",
    "print(q,w,v)\n",
    "print('-' *10)\n",
    "\n",
    "data = [ 9 , 8 ,7 ,6]\n",
    "a  , x , y ,z = data\n",
    "print(data)\n",
    "print(a , x , y ,z)\n",
    "print('-' *10)\n",
    "\n",
    "# input from the user\n",
    "n = int(input(\"Enter the first number\"))\n",
    "m = int(input(\"Enter the secone number\"))\n",
    "print(\"The  value is\" ,  n - m)\n"
   ]
  },
  {
   "cell_type": "code",
   "execution_count": 24,
   "id": "3a88c026-0c83-44d9-87a1-0983c52a5190",
   "metadata": {},
   "outputs": [
    {
     "name": "stdout",
     "output_type": "stream",
     "text": [
      "10\n",
      "20\n"
     ]
    }
   ],
   "source": [
    "# Arithmetic Operation with Assignment\n",
    "n = 10\n",
    "print(n)\n",
    "n +=n  # n = n + n\n",
    "print(n)"
   ]
  },
  {
   "cell_type": "code",
   "execution_count": null,
   "id": "443505e1-1495-48a1-aa6c-f6fe16994a8c",
   "metadata": {},
   "outputs": [],
   "source": []
  }
 ],
 "metadata": {
  "kernelspec": {
   "display_name": "Python 3 (ipykernel)",
   "language": "python",
   "name": "python3"
  },
  "language_info": {
   "codemirror_mode": {
    "name": "ipython",
    "version": 3
   },
   "file_extension": ".py",
   "mimetype": "text/x-python",
   "name": "python",
   "nbconvert_exporter": "python",
   "pygments_lexer": "ipython3",
   "version": "3.11.7"
  }
 },
 "nbformat": 4,
 "nbformat_minor": 5
}
