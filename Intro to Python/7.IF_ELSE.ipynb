{
 "cells": [
  {
   "cell_type": "code",
   "execution_count": 29,
   "id": "b5caef55-4833-4efb-94ce-9dfdae43f883",
   "metadata": {},
   "outputs": [
    {
     "name": "stdin",
     "output_type": "stream",
     "text": [
      "Enter the number: 1\n"
     ]
    },
    {
     "name": "stdout",
     "output_type": "stream",
     "text": [
      "1 is +ve\n",
      "-----\n"
     ]
    }
   ],
   "source": [
    "n = int(input(\"Enter the number:\"))\n",
    "\n",
    "if n > 0 :\n",
    "     print(n, 'is +ve')\n",
    "\n",
    "print('-'*5)    \n",
    "\n",
    "if n < 0:\n",
    "     print(n, 'is -ve')\n",
    "if n == 0:\n",
    "     print(n , 'is zero')\n",
    "\n",
    "#print(n > 0 )\n",
    "#print(n , 'is +ve')\n",
    "#print('_'*5)\n",
    "#print(n < 0)\n",
    "#print(n , 'is -ve')"
   ]
  },
  {
   "cell_type": "code",
   "execution_count": 54,
   "id": "383386a6-6da9-4e9b-b003-c0330d2b136e",
   "metadata": {},
   "outputs": [
    {
     "name": "stdin",
     "output_type": "stream",
     "text": [
      "Enter the number: 0\n"
     ]
    },
    {
     "name": "stdout",
     "output_type": "stream",
     "text": [
      "0 is zero\n"
     ]
    }
   ],
   "source": [
    "n = int(input(\"Enter the number:\"))\n",
    "\n",
    "if (n > 0):\n",
    "    \n",
    "     print(n, 'is +ve')\n",
    "\n",
    "elif(n < 0):\n",
    "\n",
    "     print(n, 'is -ve')\n",
    "else: \n",
    "     print(n , 'is zero')"
   ]
  },
  {
   "cell_type": "code",
   "execution_count": 66,
   "id": "2e620128-2277-4df7-bbae-2a8f1f7c04c9",
   "metadata": {},
   "outputs": [
    {
     "name": "stdin",
     "output_type": "stream",
     "text": [
      "Enter the number 12\n"
     ]
    },
    {
     "name": "stdout",
     "output_type": "stream",
     "text": [
      "Not divisible\n"
     ]
    }
   ],
   "source": [
    "a = int(input(\"Enter the number\"))\n",
    "if(a%5 == 0):\n",
    "    if(a%3 == 0):\n",
    "        print('The number is divisible by both 3 and 5')\n",
    "    else:\n",
    "        print('Not divisible')\n",
    "        \n",
    "else:\n",
    "    print('Not divisible')\n",
    "\n"
   ]
  },
  {
   "cell_type": "code",
   "execution_count": 73,
   "id": "65b63a68-e752-4c49-b373-57452a7174c2",
   "metadata": {},
   "outputs": [
    {
     "ename": "SyntaxError",
     "evalue": "invalid syntax (1360401555.py, line 2)",
     "output_type": "error",
     "traceback": [
      "\u001b[0;36m  Cell \u001b[0;32mIn[73], line 2\u001b[0;36m\u001b[0m\n\u001b[0;31m    if((a % 5 == 0) && (a % 3 == 0)):\u001b[0m\n\u001b[0m                     ^\u001b[0m\n\u001b[0;31mSyntaxError\u001b[0m\u001b[0;31m:\u001b[0m invalid syntax\n"
     ]
    }
   ],
   "source": [
    "a = int(input(\"Enter the number\"))\n",
    "if((a % 5 == 0) and (a % 3 == 0)):\n",
    "    print('The number is divisible by both 3 and 5')\n",
    "else:\n",
    "    print('Not Divisible')"
   ]
  },
  {
   "cell_type": "code",
   "execution_count": null,
   "id": "075aed1f-81f8-4041-93d2-26c0ae9bade4",
   "metadata": {},
   "outputs": [],
   "source": []
  }
 ],
 "metadata": {
  "kernelspec": {
   "display_name": "Python 3 (ipykernel)",
   "language": "python",
   "name": "python3"
  },
  "language_info": {
   "codemirror_mode": {
    "name": "ipython",
    "version": 3
   },
   "file_extension": ".py",
   "mimetype": "text/x-python",
   "name": "python",
   "nbconvert_exporter": "python",
   "pygments_lexer": "ipython3",
   "version": "3.11.7"
  }
 },
 "nbformat": 4,
 "nbformat_minor": 5
}
