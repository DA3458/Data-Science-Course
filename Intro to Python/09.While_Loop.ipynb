{
 "cells": [
  {
   "cell_type": "code",
   "execution_count": 3,
   "id": "247d0b1c-fa61-4fea-a34e-0de8594514dd",
   "metadata": {},
   "outputs": [
    {
     "name": "stdout",
     "output_type": "stream",
     "text": [
      "1\n",
      "3\n",
      "6\n",
      "10\n",
      "15\n",
      "21\n",
      "28\n"
     ]
    }
   ],
   "source": [
    "n = 30\n",
    "i = 1\n",
    "s = 1\n",
    "\n",
    "while(n > s):\n",
    "    \n",
    "    print(s)\n",
    "    \n",
    "    i = i + 1\n",
    "    \n",
    "    s = s + i\n"
   ]
  },
  {
   "cell_type": "code",
   "execution_count": null,
   "id": "e762f177-7383-423d-9c77-935fbf566282",
   "metadata": {},
   "outputs": [],
   "source": [
    "# Reverse a number\n"
   ]
  }
 ],
 "metadata": {
  "kernelspec": {
   "display_name": "Python 3 (ipykernel)",
   "language": "python",
   "name": "python3"
  },
  "language_info": {
   "codemirror_mode": {
    "name": "ipython",
    "version": 3
   },
   "file_extension": ".py",
   "mimetype": "text/x-python",
   "name": "python",
   "nbconvert_exporter": "python",
   "pygments_lexer": "ipython3",
   "version": "3.11.7"
  }
 },
 "nbformat": 4,
 "nbformat_minor": 5
}
