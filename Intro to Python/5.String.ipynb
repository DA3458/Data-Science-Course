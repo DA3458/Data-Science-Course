{
 "cells": [
  {
   "cell_type": "code",
   "execution_count": 2,
   "id": "2fd34c4d-08d5-4937-bf8b-f6617fddbc12",
   "metadata": {},
   "outputs": [
    {
     "name": "stdout",
     "output_type": "stream",
     "text": [
      "Ashish Jangra\n"
     ]
    }
   ],
   "source": [
    "#Concatination\n",
    "print('Ashish ' + 'Jangra')"
   ]
  },
  {
   "cell_type": "code",
   "execution_count": 5,
   "id": "74746965-b452-461e-b6a5-7b2673bb8d15",
   "metadata": {},
   "outputs": [
    {
     "name": "stdout",
     "output_type": "stream",
     "text": [
      "A A A A A \n"
     ]
    }
   ],
   "source": [
    "# Replicate\n",
    "print('A ' *5)\n"
   ]
  },
  {
   "cell_type": "code",
   "execution_count": 8,
   "id": "a2a68448-d1b3-4020-97cb-41972a0b4ff4",
   "metadata": {},
   "outputs": [
    {
     "name": "stdout",
     "output_type": "stream",
     "text": [
      "13\n"
     ]
    }
   ],
   "source": [
    "# String Length\n",
    "print(len('Ashish Jangra'))"
   ]
  },
  {
   "cell_type": "code",
   "execution_count": 29,
   "id": "f5d6dc49-0977-4970-9638-55d2b5b2bffa",
   "metadata": {},
   "outputs": [
    {
     "name": "stdout",
     "output_type": "stream",
     "text": [
      "Ashish Jangra\n",
      "A\n",
      "h\n",
      "hish Jangra\n",
      "hi\n",
      "ang\n",
      "Ashish Jang\n"
     ]
    }
   ],
   "source": [
    "# String Slicing\n",
    "print('Ashish Jangra')\n",
    "print('Ashish Jangra'[0])\n",
    "print('Ashish Jangra'[2])\n",
    "print('Ashish Jangra'[2:])\n",
    "print('Ashish Jangra'[2:4])\n",
    "print('Ashish Jangra'[-5:-2])\n",
    "print('Ashish Jangra'[:-2])\n"
   ]
  },
  {
   "cell_type": "code",
   "execution_count": 31,
   "id": "6f2c4ef6-5e23-4d31-a020-e477d4079eae",
   "metadata": {},
   "outputs": [
    {
     "name": "stdout",
     "output_type": "stream",
     "text": [
      "ashish jangra\n",
      "ASHISH JANGRA\n"
     ]
    }
   ],
   "source": [
    "# String Case Conversion\n",
    "print('Ashish Jangra' . lower())\n",
    "print('ashish jangra' . upper())\n"
   ]
  },
  {
   "cell_type": "code",
   "execution_count": 32,
   "id": "2e48085e-78d4-41d4-badc-f9fe127d2454",
   "metadata": {},
   "outputs": [
    {
     "name": "stdout",
     "output_type": "stream",
     "text": [
      "Ashish Jangra\n",
      "    Ashish Jangra    \n",
      "Ashish Jangra\n"
     ]
    }
   ],
   "source": [
    "# String Stripping\n",
    "print('Ashish Jangra')\n",
    "print('    Ashish Jangra    ')\n",
    "print('    Ashish Jangra    '.strip())"
   ]
  },
  {
   "cell_type": "code",
   "execution_count": 36,
   "id": "7b91302a-d347-406d-924e-4e0e4f5ad221",
   "metadata": {},
   "outputs": [
    {
     "name": "stdout",
     "output_type": "stream",
     "text": [
      "Ashish Jangra\n",
      "A-i- Jangra\n"
     ]
    }
   ],
   "source": [
    "#String Replacing\n",
    "print('Ashish Jangra')\n",
    "print('Ashish Jangra'.replace('sh' , '-'))\n"
   ]
  },
  {
   "cell_type": "code",
   "execution_count": 37,
   "id": "570d3a40-4217-40ff-97b2-fda1909b3531",
   "metadata": {},
   "outputs": [
    {
     "name": "stdout",
     "output_type": "stream",
     "text": [
      "Ashish Jangra\n",
      "2\n"
     ]
    }
   ],
   "source": [
    "#String Count\n",
    "print('Ashish Jangra')\n",
    "print('Ashish Jangra'.count('s'))"
   ]
  },
  {
   "cell_type": "code",
   "execution_count": 44,
   "id": "f0e54db7-25a7-41b7-9152-304bb2e95be8",
   "metadata": {},
   "outputs": [
    {
     "name": "stdout",
     "output_type": "stream",
     "text": [
      "1\n"
     ]
    }
   ],
   "source": [
    "#String Find\n",
    "print('Ashish Jangra'.find('sh'))\n"
   ]
  },
  {
   "cell_type": "code",
   "execution_count": 45,
   "id": "9a8d3110-ca74-4f18-9ad9-d118bef183db",
   "metadata": {},
   "outputs": [
    {
     "name": "stdout",
     "output_type": "stream",
     "text": [
      "True\n",
      "True\n",
      "True\n",
      "True\n"
     ]
    }
   ],
   "source": [
    "#String Check\n",
    "print('Ashish'.isalpha())  \n",
    "print('123'.isdigit()) \n",
    "print('ashish'.islower())  \n",
    "print('ASHISH'.isupper()) \n"
   ]
  },
  {
   "cell_type": "code",
   "execution_count": 46,
   "id": "af55ccb6-d482-4876-bf16-03a21b8b8406",
   "metadata": {},
   "outputs": [
    {
     "name": "stdout",
     "output_type": "stream",
     "text": [
      "Geeks for geeks\n",
      "Geeks For Geeks\n",
      "--------------------\n"
     ]
    }
   ],
   "source": [
    "print('geeks for geeks'.capitalize())\n",
    "print('geeks for geeks'.title()) \n",
    "print('-'*20)"
   ]
  },
  {
   "cell_type": "code",
   "execution_count": 47,
   "id": "8e7814a9-d614-4956-8896-a15dc95d2abc",
   "metadata": {},
   "outputs": [
    {
     "name": "stdout",
     "output_type": "stream",
     "text": [
      "True\n",
      "True\n"
     ]
    }
   ],
   "source": [
    "print('Ashish Jangra'.startswith(\"Ash\")) \n",
    "print('Ashish Jangra'.endswith(\"gra\"))"
   ]
  },
  {
   "cell_type": "code",
   "execution_count": 48,
   "id": "b5f3bdb4-e146-4e0a-85f6-f639717af8fa",
   "metadata": {},
   "outputs": [
    {
     "name": "stdout",
     "output_type": "stream",
     "text": [
      "Print String in default order: \n",
      "Begineer in Python\n",
      "\n",
      "Print String in Positional order: \n",
      "in Begineer Python\n",
      "\n",
      "Print String in order of Keywords: \n",
      "Python in Begineer\n"
     ]
    }
   ],
   "source": [
    "# Default order \n",
    "String1 = \"{} {} {}\".format('Begineer', 'in', 'Python') \n",
    "print(\"Print String in default order: \") \n",
    "print(String1) \n",
    "\n",
    "# Positional Formatting \n",
    "String1 = \"{1} {0} {2}\".format('Begineer', 'in', 'Python') \n",
    "print(\"\\nPrint String in Positional order: \") \n",
    "print(String1) \n",
    "\n",
    "# Keyword Formatting \n",
    "String1 = \"{l} {f} {g}\".format(g='Begineer', f='in', l='Python') \n",
    "print(\"\\nPrint String in order of Keywords: \") \n",
    "print(String1)"
   ]
  },
  {
   "cell_type": "code",
   "execution_count": 63,
   "id": "a76b2d57-6ffb-40b3-8ffd-72adb480e853",
   "metadata": {},
   "outputs": [
    {
     "name": "stdout",
     "output_type": "stream",
     "text": [
      "Ashish Jangra\n",
      "---Ashish Jangra----\n",
      "--------------------\n",
      "Ashish Jangra\n",
      "Ashish Jangra-------\n",
      "--------------------\n",
      "Ashish Jangra\n",
      "-------Ashish Jangra\n"
     ]
    }
   ],
   "source": [
    "# center\n",
    "print('Ashish Jangra')\n",
    "print('Ashish Jangra'.center(20,\"-\"))\n",
    "print('-'*20)\n",
    "\n",
    "#leftjust\n",
    "print('Ashish Jangra')\n",
    "print('Ashish Jangra'.ljust(20,\"-\"))\n",
    "print('-'*20)\n",
    "\n",
    "#rightjust\n",
    "print('Ashish Jangra')\n",
    "print('Ashish Jangra'.rjust(20,\"-\"))\n"
   ]
  },
  {
   "cell_type": "code",
   "execution_count": 2,
   "id": "c6ac1319-3f6c-4e06-9a4f-4625b31361df",
   "metadata": {},
   "outputs": [
    {
     "name": "stdout",
     "output_type": "stream",
     "text": [
      "Hello world Python is awesome\n",
      "h i j k l m n o p q r s t u\n"
     ]
    }
   ],
   "source": [
    "#Join \n",
    "words = [\"Hello\", \"world\", \"Python\", \"is\", \"awesome\"]\n",
    "sentence = \" \".join(words)\n",
    "print(sentence)\n",
    "alphabets = \"abcdefghijklmnopqrstuvwxyz\"\n",
    "substring = alphabets[7:21]  # \"hijklmnopqrsttu\"\n",
    "print(\" \".join(substring))\n",
    "\n"
   ]
  },
  {
   "cell_type": "code",
   "execution_count": null,
   "id": "1e892f11-2f11-4d87-9052-69428b4fb79b",
   "metadata": {},
   "outputs": [],
   "source": []
  }
 ],
 "metadata": {
  "kernelspec": {
   "display_name": "Python 3 (ipykernel)",
   "language": "python",
   "name": "python3"
  },
  "language_info": {
   "codemirror_mode": {
    "name": "ipython",
    "version": 3
   },
   "file_extension": ".py",
   "mimetype": "text/x-python",
   "name": "python",
   "nbconvert_exporter": "python",
   "pygments_lexer": "ipython3",
   "version": "3.11.7"
  }
 },
 "nbformat": 4,
 "nbformat_minor": 5
}
