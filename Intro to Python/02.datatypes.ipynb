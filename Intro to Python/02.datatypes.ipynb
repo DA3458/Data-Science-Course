{
 "cells": [
  {
   "cell_type": "code",
   "execution_count": 3,
   "id": "9b7acd24-fa01-417c-a1a8-11de5434c98e",
   "metadata": {},
   "outputs": [
    {
     "name": "stdout",
     "output_type": "stream",
     "text": [
      "1000000\n",
      "100\n",
      "0\n",
      "-10\n",
      "-1221897398\n",
      "<class 'int'>\n"
     ]
    }
   ],
   "source": [
    "#INT\n",
    "print(1000000)\n",
    "print(100)\n",
    "print(0)\n",
    "print(-10)\n",
    "print(-1221897398)\n",
    "print(type(12312))"
   ]
  },
  {
   "cell_type": "code",
   "execution_count": 5,
   "id": "1edbce9b-530a-43d4-bc65-98a0bf130665",
   "metadata": {},
   "outputs": [
    {
     "name": "stdout",
     "output_type": "stream",
     "text": [
      "1000000.5\n",
      "100.4\n",
      "0.0\n",
      "-10.3\n",
      "-1221897398.5\n",
      "<class 'float'>\n"
     ]
    }
   ],
   "source": [
    "#FLOAT\n",
    "print(1000000.5)\n",
    "print(100.4)\n",
    "print(0.0)\n",
    "print(-10.3)\n",
    "print(-1221897398.5)\n",
    "print(type(0.0))"
   ]
  },
  {
   "cell_type": "code",
   "execution_count": 7,
   "id": "2836655b-99e0-46df-a060-b0d2a39fc596",
   "metadata": {},
   "outputs": [
    {
     "name": "stdout",
     "output_type": "stream",
     "text": [
      "A\n",
      "a\n",
      "Dhruv Aggarwal\n",
      "Dhruv\n",
      "<class 'str'>\n",
      "<class 'str'>\n"
     ]
    }
   ],
   "source": [
    "# String\n",
    "print('A')\n",
    "print('a')\n",
    "print('Dhruv Aggarwal')\n",
    "print(\"Dhruv\")\n",
    "print(type(\"Dhruv\"))\n",
    "print(type(\"10.44\"))"
   ]
  },
  {
   "cell_type": "code",
   "execution_count": 9,
   "id": "dd668c60-a0f0-4047-bef6-68925cc7c753",
   "metadata": {},
   "outputs": [
    {
     "name": "stdout",
     "output_type": "stream",
     "text": [
      "True\n",
      "False\n",
      "<class 'bool'>\n"
     ]
    }
   ],
   "source": [
    "#Boolean\n",
    "print(True)\n",
    "print(False)\n",
    "print(type(True))"
   ]
  },
  {
   "cell_type": "code",
   "execution_count": 21,
   "id": "5829def1-e93e-4f43-9d08-4405312400d4",
   "metadata": {},
   "outputs": [
    {
     "name": "stdout",
     "output_type": "stream",
     "text": [
      "a\n",
      "b\n",
      "c\n",
      "a b c\n",
      "a b c\n",
      "a-b-c"
     ]
    }
   ],
   "source": [
    "# Functionalities in print statement\n",
    "\n",
    "print('a')\n",
    "print('b')\n",
    "print('c')\n",
    "print('a' , 'b' , 'c')\n",
    "\n",
    "print('a' , end = ' ')  # print a , b , c in a single line \n",
    "print('b' , end = ' ')\n",
    "print('c')\n",
    "\n",
    "print('a' , end = '-')  # print a , b , c in a single line \n",
    "print('b' , end = '-')\n",
    "print('c',  end = '')\n"
   ]
  },
  {
   "cell_type": "code",
   "execution_count": null,
   "id": "16db7c23-a7f4-4b6c-b691-59d815546481",
   "metadata": {},
   "outputs": [],
   "source": []
  }
 ],
 "metadata": {
  "kernelspec": {
   "display_name": "Python 3 (ipykernel)",
   "language": "python",
   "name": "python3"
  },
  "language_info": {
   "codemirror_mode": {
    "name": "ipython",
    "version": 3
   },
   "file_extension": ".py",
   "mimetype": "text/x-python",
   "name": "python",
   "nbconvert_exporter": "python",
   "pygments_lexer": "ipython3",
   "version": "3.11.7"
  }
 },
 "nbformat": 4,
 "nbformat_minor": 5
}
